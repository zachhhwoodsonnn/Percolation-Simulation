{
 "cells": [
  {
   "cell_type": "code",
   "execution_count": 32,
   "id": "6431c3fd-e5c8-4e74-9d83-881946dfe509",
   "metadata": {},
   "outputs": [
    {
     "name": "stdin",
     "output_type": "stream",
     "text": [
      "How many rows and columns do you want your table to have?:  5\n",
      "How many times would you like to simulate percolation?:  75\n"
     ]
    },
    {
     "name": "stdout",
     "output_type": "stream",
     "text": [
      "\n",
      "The number of open sites for each simulation were as follows: [16, 18, 16, 19, 16, 16, 14, 17, 13, 16, 11, 17, 17, 16, 19, 14, 13, 19, 15, 8, 13, 8, 13, 14, 18, 12, 15, 17, 13, 13, 14, 15, 15, 15, 14, 15, 12, 18, 15, 13, 12, 13, 16, 11, 16, 12, 14, 16, 14, 15, 15, 18, 17, 18, 17, 13, 16, 15, 15, 18, 12, 10, 16, 10, 10, 14, 16, 18, 17, 15, 19, 16, 13, 13, 10]\n",
      "\n",
      "The 95% confidence interval for the percolation threshold is: [14.112173276505912, 15.274493390160755]\n"
     ]
    }
   ],
   "source": [
    "from Percolation import *\n",
    "import random\n",
    "import statistics\n",
    "import math\n",
    "\n",
    "n = int(input(\"How many rows and columns do you want your table to have?: \"))\n",
    "count = int(input(\"How many times would you like to simulate percolation?: \"))\n",
    "print()\n",
    "\n",
    "open_sites = []\n",
    "\n",
    "for simulation in range(count):\n",
    "    percolation = Percolation(n)\n",
    "\n",
    "    while percolation.percolates() != True:\n",
    "        i = random.randint(0, n - 1)\n",
    "        j = random.randint(0, n -1)\n",
    "        if percolation.isOpen(i, j) != True:\n",
    "            percolation.open(i, j)\n",
    "        else:\n",
    "            continue\n",
    "    open_sites.append(percolation.numberOfOpenSites())\n",
    "\n",
    "print(f'The number of open sites for each simulation were as follows: {open_sites}')\n",
    "print()\n",
    "\n",
    "sample_mean = statistics.mean(open_sites)\n",
    "standard_deviation = statistics.stdev(open_sites)\n",
    "\n",
    "left_confidence_interval = (sample_mean - ((1.96 * standard_deviation) / math.sqrt(count)))\n",
    "right_confidence_interval = (sample_mean + ((1.96 * standard_deviation) / math.sqrt(count)))\n",
    "confidence_interval = [left_confidence_interval, right_confidence_interval]\n",
    "\n",
    "print(f'The 95% confidence interval for the percolation threshold is: {confidence_interval}')"
   ]
  },
  {
   "cell_type": "code",
   "execution_count": null,
   "id": "6a5892be-21a6-426d-abe4-c7be27dbf9da",
   "metadata": {},
   "outputs": [],
   "source": []
  }
 ],
 "metadata": {
  "kernelspec": {
   "display_name": "Python 3 (ipykernel)",
   "language": "python",
   "name": "python3"
  },
  "language_info": {
   "codemirror_mode": {
    "name": "ipython",
    "version": 3
   },
   "file_extension": ".py",
   "mimetype": "text/x-python",
   "name": "python",
   "nbconvert_exporter": "python",
   "pygments_lexer": "ipython3",
   "version": "3.9.12"
  }
 },
 "nbformat": 4,
 "nbformat_minor": 5
}
